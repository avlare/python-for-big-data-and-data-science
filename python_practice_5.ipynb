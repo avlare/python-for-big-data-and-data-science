{
  "nbformat": 4,
  "nbformat_minor": 0,
  "metadata": {
    "colab": {
      "provenance": []
    },
    "kernelspec": {
      "name": "python3",
      "display_name": "Python 3"
    },
    "language_info": {
      "name": "python"
    }
  },
  "cells": [
    {
      "cell_type": "markdown",
      "source": [
        "# I. OOP"
      ],
      "metadata": {
        "id": "5qV_sehzFCTp"
      }
    },
    {
      "cell_type": "markdown",
      "source": [
        "1. (6б). Створіть клас Animal, додайте три атрибути, один з яких має значення за замовчуванням та два методи на свій розсуд."
      ],
      "metadata": {
        "id": "tx_U_hOALyfg"
      }
    },
    {
      "cell_type": "code",
      "source": [
        "class Animal:\n",
        "    def __init__(self, name, kind, age=4):\n",
        "        self.name = name\n",
        "        self.kind = kind\n",
        "        self.age = age\n",
        "\n",
        "    def is_cat(self):\n",
        "        if(self.kind == \"Cat\"):\n",
        "            return True\n",
        "        return False\n",
        "\n",
        "    def age_in_three_years(self):\n",
        "        new_age = self.age + 3\n",
        "        return new_age\n"
      ],
      "metadata": {
        "id": "-Vf895KaL88N"
      },
      "execution_count": 1,
      "outputs": []
    },
    {
      "cell_type": "markdown",
      "source": [
        "2. (2б). Створіть два обʼєкти цього класу, де один з обʼєктів створюється із дефолтним значенням атрибуту. На одному обʼєкті отримайте значення його атрибуту, а на іншому викличте один з його методів."
      ],
      "metadata": {
        "id": "X_UlOMB0L93w"
      }
    },
    {
      "cell_type": "code",
      "source": [
        "cat_Stepan = Animal(\"Stepan\", \"Cat\", 15)\n",
        "dog_Patron = Animal(\"Patron\", \"Dog\")\n",
        "\n",
        "print(dog_Patron.kind)\n",
        "print(cat_Stepan.age_in_three_years())"
      ],
      "metadata": {
        "id": "7gBu0ESOMCpG",
        "colab": {
          "base_uri": "https://localhost:8080/"
        },
        "outputId": "d240115a-6df4-4840-e5f7-54ec882aa971"
      },
      "execution_count": 2,
      "outputs": [
        {
          "output_type": "stream",
          "name": "stdout",
          "text": [
            "Dog\n",
            "18\n"
          ]
        }
      ]
    },
    {
      "cell_type": "markdown",
      "source": [
        "3. (5б). Створіть клас, де атрибути мають різні рівні доступу. Спробуйте отримати їхні значення та опишіть результати."
      ],
      "metadata": {
        "id": "HoqSCZt1MHn5"
      }
    },
    {
      "cell_type": "code",
      "source": [
        "class Сharacter:\n",
        "    def __init__(self, name, colour, loveHoney):\n",
        "        self.name = name\n",
        "        self._colour = colour\n",
        "        self.__loveHoney = loveHoney\n",
        "\n",
        "\n",
        "WinnieThePooh = Сharacter(\"Winnie-The-Pooh\", \"yellow\", True)\n",
        "print(WinnieThePooh.name) # public\n",
        "print(WinnieThePooh._colour) # protected\n",
        "print(WinnieThePooh.__loveHoney) # private\n",
        "'''\n",
        "Ми без проблем можемо отримати значення паблік та протектід полів. Взагалі, \"захищені\" поля в ООП можуть бути використані лише в межах класу та підкласів\n",
        "та не за межами, проте в пайтон нема цього обмеження. Просто існує домовленність, що одне нижнє пікреслення робить атрибут протектід (_colour)\n",
        "та інші розробники не повинні використовувати цей атрибут не за призначенням.\n",
        "Тоді як два нижні підкреслення (__loveHoney) роблять атрибут приватним і вже точно ніхто не зможе за межами класу отримати до нього доступ.\n",
        "Тому при виклику останнього атрибуту ми отримали помилку.\n",
        "'''"
      ],
      "metadata": {
        "id": "r9b3vJxBMSPV",
        "colab": {
          "base_uri": "https://localhost:8080/",
          "height": 245
        },
        "outputId": "1339c77e-09b2-4364-abb8-17724e907597"
      },
      "execution_count": 3,
      "outputs": [
        {
          "output_type": "stream",
          "name": "stdout",
          "text": [
            "Winnie-The-Pooh\n",
            "yellow\n"
          ]
        },
        {
          "output_type": "error",
          "ename": "AttributeError",
          "evalue": "'Сharacter' object has no attribute '__loveHoney'",
          "traceback": [
            "\u001b[0;31m---------------------------------------------------------------------------\u001b[0m",
            "\u001b[0;31mAttributeError\u001b[0m                            Traceback (most recent call last)",
            "\u001b[0;32m<ipython-input-3-62afa3924059>\u001b[0m in \u001b[0;36m<cell line: 11>\u001b[0;34m()\u001b[0m\n\u001b[1;32m      9\u001b[0m \u001b[0mprint\u001b[0m\u001b[0;34m(\u001b[0m\u001b[0mWinnieThePooh\u001b[0m\u001b[0;34m.\u001b[0m\u001b[0mname\u001b[0m\u001b[0;34m)\u001b[0m \u001b[0;31m# public\u001b[0m\u001b[0;34m\u001b[0m\u001b[0;34m\u001b[0m\u001b[0m\n\u001b[1;32m     10\u001b[0m \u001b[0mprint\u001b[0m\u001b[0;34m(\u001b[0m\u001b[0mWinnieThePooh\u001b[0m\u001b[0;34m.\u001b[0m\u001b[0m_colour\u001b[0m\u001b[0;34m)\u001b[0m \u001b[0;31m# protected\u001b[0m\u001b[0;34m\u001b[0m\u001b[0;34m\u001b[0m\u001b[0m\n\u001b[0;32m---> 11\u001b[0;31m \u001b[0mprint\u001b[0m\u001b[0;34m(\u001b[0m\u001b[0mWinnieThePooh\u001b[0m\u001b[0;34m.\u001b[0m\u001b[0m__loveHoney\u001b[0m\u001b[0;34m)\u001b[0m \u001b[0;31m# private\u001b[0m\u001b[0;34m\u001b[0m\u001b[0;34m\u001b[0m\u001b[0m\n\u001b[0m\u001b[1;32m     12\u001b[0m '''\n\u001b[1;32m     13\u001b[0m \u001b[0mМи\u001b[0m \u001b[0mбез\u001b[0m \u001b[0mпроблем\u001b[0m \u001b[0mможемо\u001b[0m \u001b[0mотримати\u001b[0m \u001b[0mзначення\u001b[0m \u001b[0mпаблік\u001b[0m \u001b[0mта\u001b[0m \u001b[0mпротектід\u001b[0m \u001b[0mполів\u001b[0m\u001b[0;34m.\u001b[0m \u001b[0mВзагалі\u001b[0m\u001b[0;34m,\u001b[0m \u001b[0;34m\"захищені\"\u001b[0m \u001b[0mполя\u001b[0m \u001b[0mв\u001b[0m \u001b[0mООП\u001b[0m \u001b[0mможуть\u001b[0m \u001b[0mбути\u001b[0m \u001b[0mвикористані\u001b[0m \u001b[0mлише\u001b[0m \u001b[0mв\u001b[0m \u001b[0mмежах\u001b[0m \u001b[0mкласу\u001b[0m \u001b[0mта\u001b[0m \u001b[0mпідкласів\u001b[0m\u001b[0;34m\u001b[0m\u001b[0;34m\u001b[0m\u001b[0m\n",
            "\u001b[0;31mAttributeError\u001b[0m: 'Сharacter' object has no attribute '__loveHoney'"
          ]
        }
      ]
    },
    {
      "cell_type": "markdown",
      "source": [
        "4. (7б). Як ви розумієте термін self? Для чого використовується метод __init __?"
      ],
      "metadata": {
        "id": "5op2m2vgMSkZ"
      }
    },
    {
      "cell_type": "markdown",
      "source": [
        "Метод `__init__` використовується для ініціалізації атрибутів об'єктів класу. Загалом я б порівняла його з конструктором в інших мовах програмування. self чимось схожий на this, тобто вказує на поточний об'єкт. Якщо у більш художньому стилі, то можна сказати, що self це \"Я (цей об'єкт)\". Наприклад,\n",
        "\n",
        "```\n",
        "class Human():\n",
        "    def __init__(self, name, age): #self -> я\n",
        "        self.name = name # моє (цього об'єкта) ім'я\n",
        "        self.age = age # мій (цього об'єкта) вік\n",
        "```\n"
      ],
      "metadata": {
        "id": "DyiPqNRvMasx"
      }
    },
    {
      "cell_type": "markdown",
      "source": [
        "5. (9б). Створіть клас Фігура без атрибутів, з методом get_area для отримання площі фігури, що повертає 0 та __add __, який приймає self та other в якості аргументів, а повертає суму площин фігур self та other."
      ],
      "metadata": {
        "id": "-6X8EGfjMd2y"
      }
    },
    {
      "cell_type": "code",
      "source": [
        "class Figure:\n",
        "    def get_area(self):\n",
        "        return 0\n",
        "\n",
        "    def __add__(self, other):\n",
        "        sum_area = self.get_area() + other.get_area()\n",
        "        return sum_area"
      ],
      "metadata": {
        "id": "4rvO_wYUMaEr"
      },
      "execution_count": 4,
      "outputs": []
    },
    {
      "cell_type": "markdown",
      "source": [
        "6. (11б). Створіть 2 дочірніх класи від Фігури: Трикутник та Коло, які мають атрибути, необхідні для розрахунку площин. Визначте метод get_area в кожному з них так, щоби вони розраховували площу в залежності від формули для кожного типу фігури. Створіть обʼєкт класу Трикутник та обʼєкт класу Коло. Виконайте операцію суми за допомогою оператора + між ними."
      ],
      "metadata": {
        "id": "SFcKnnv5Mo_z"
      }
    },
    {
      "cell_type": "code",
      "source": [
        "import math\n",
        "\n",
        "class Triangle(Figure):\n",
        "    def __init__(self, side, height):\n",
        "        self.side = side\n",
        "        self.height = height\n",
        "\n",
        "    def get_area(self):\n",
        "        area = 0.5 * self.side * self.height\n",
        "        return area\n",
        "\n",
        "\n",
        "class Circle(Figure):\n",
        "    def __init__(self, radius):\n",
        "        self.radius = radius\n",
        "\n",
        "    def get_area(self):\n",
        "        area = self.radius**2 * math.pi\n",
        "        return area\n",
        "\n",
        "\n",
        "new_triangle = Triangle(10, 5)\n",
        "new_circle = Circle(7)\n",
        "new_triangle + new_circle"
      ],
      "metadata": {
        "id": "H3GVNr69Muf3",
        "colab": {
          "base_uri": "https://localhost:8080/"
        },
        "outputId": "79ad03cc-acb6-49a5-bc27-012bd1216898"
      },
      "execution_count": 5,
      "outputs": [
        {
          "output_type": "execute_result",
          "data": {
            "text/plain": [
              "178.93804002589985"
            ]
          },
          "metadata": {},
          "execution_count": 5
        }
      ]
    },
    {
      "cell_type": "markdown",
      "source": [
        "7. (3б). Продемонструйте різницю між isinstance та issubclass."
      ],
      "metadata": {
        "id": "HCvR206YMvLK"
      }
    },
    {
      "cell_type": "code",
      "source": [
        "'''\n",
        "Через isinstance перевіряємо чи належить об'єкт відповідному класу. У нашому випадку об'єкт трикутник\n",
        "належить класу Triangle та класу \"Figure\" (від якого успадковується трикутник).\n",
        "Тоді як метод issubclass приймає в аргументи лише класи і перевіряє чи є один клас підкласом іншого, як\n",
        "Triangle підклас Figure.\n",
        "'''\n",
        "print(isinstance(new_triangle, Triangle))\n",
        "print(isinstance(new_triangle, Figure))\n",
        "\n",
        "print(issubclass(Triangle, Figure))"
      ],
      "metadata": {
        "id": "L_V1bBvDM0GN",
        "colab": {
          "base_uri": "https://localhost:8080/"
        },
        "outputId": "ac6d538c-bc72-4957-ac1f-0f487f04f4a7"
      },
      "execution_count": 6,
      "outputs": [
        {
          "output_type": "stream",
          "name": "stdout",
          "text": [
            "True\n",
            "True\n",
            "True\n"
          ]
        }
      ]
    },
    {
      "cell_type": "markdown",
      "source": [
        "8. (13б). Створіть клас BankAccount з приватними атрибутами balance та account_number. Реалізуйте методи поповнення та зняття коштів, забезпечивши належну інкапсуляцію. Підказка: використовуйте декоратори property та setter."
      ],
      "metadata": {
        "id": "jjsaBZ-iM0Qq"
      }
    },
    {
      "cell_type": "code",
      "source": [
        "class BankAccount():\n",
        "    def __init__(self, balance, account_number):\n",
        "        self.__balance = balance\n",
        "        self.__account_number = account_number\n",
        "\n",
        "    @property\n",
        "    def balance(self):\n",
        "        return self.__balance\n",
        "\n",
        "    @property\n",
        "    def account_number(self):\n",
        "        return self.__account_number\n",
        "\n",
        "    @balance.setter\n",
        "    def balance(self, new_balance):\n",
        "        if new_balance < 0:\n",
        "            '''\n",
        "            thanks to this method, we can avoid adding additional checks to the \"withdrawal\"\n",
        "            because the balance setter will itself check whether the new balance is less than zero\n",
        "            '''\n",
        "            print(\"Balance cannot be under 0.\")\n",
        "        else:\n",
        "            self.__balance = new_balance\n",
        "\n",
        "    def deposit(self, sum):\n",
        "        self.balance += sum\n",
        "\n",
        "    def withdrawal(self, sum):\n",
        "        self.balance -= sum\n",
        "\n",
        "new_card = BankAccount(1000, 234)\n",
        "new_card.deposit(100)\n",
        "print(new_card.balance)\n",
        "new_card.withdrawal(7800)\n",
        "print(new_card.balance)\n",
        "new_card.withdrawal(800)\n",
        "print(new_card.balance)"
      ],
      "metadata": {
        "id": "xCvZ7lh8M7YA",
        "colab": {
          "base_uri": "https://localhost:8080/"
        },
        "outputId": "21abdc1b-6f45-4ab1-9638-3f7ce771203e"
      },
      "execution_count": 7,
      "outputs": [
        {
          "output_type": "stream",
          "name": "stdout",
          "text": [
            "1100\n",
            "Balance cannot be under 0.\n",
            "1100\n",
            "300\n"
          ]
        }
      ]
    },
    {
      "cell_type": "markdown",
      "source": [
        "9. (11б). Створіть клас Library, який містить список об'єктів типу Book. Реалізуйте методи для додавання книги, видалення книги та відображення списку книг."
      ],
      "metadata": {
        "id": "tIzL2SJTM8ft"
      }
    },
    {
      "cell_type": "code",
      "source": [
        "class Book:\n",
        "    def __init__(self, name):\n",
        "        self.name = name\n",
        "\n",
        "class Library:\n",
        "    def __init__(self):\n",
        "        self.list_books = list()\n",
        "\n",
        "    def add_book(self, book):\n",
        "        self.list_books.append(book)\n",
        "\n",
        "    def delete_book(self, book):\n",
        "        if(book not in self.list_books):\n",
        "            print(\"Oops... We don't have this book\")\n",
        "        else:\n",
        "            self.list_books.remove(book)\n",
        "\n",
        "    def show_all_books(self):\n",
        "        for book in self.list_books:\n",
        "            print(book.name)\n",
        "\n",
        "\n",
        "book1 = Book(\"Pes Patron u rozminuvanni chempion\")\n",
        "book2 = Book(\"Kit Stepan: How to become a Tik-Tok Star\")\n",
        "book3 = Book(\"Kishka Stephania about French-Ukrainian relations\")\n",
        "book4 = Book(\"Secret\")\n",
        "new_library = Library()\n",
        "print(\"---Add two books---\")\n",
        "new_library.add_book(book1)\n",
        "new_library.add_book(book2)\n",
        "new_library.show_all_books()\n",
        "print(\"---Delete one book---\")\n",
        "new_library.delete_book(book1)\n",
        "new_library.delete_book(book4) # what happens if we try to delete book not from the list\n",
        "new_library.show_all_books()\n",
        "print(\"---Add one new book---\")\n",
        "new_library.add_book(book3)\n",
        "new_library.show_all_books()"
      ],
      "metadata": {
        "id": "HWxfJKLtNAUZ",
        "colab": {
          "base_uri": "https://localhost:8080/"
        },
        "outputId": "7e98fd9a-2432-4962-fec9-e7204dbe9e9e"
      },
      "execution_count": 8,
      "outputs": [
        {
          "output_type": "stream",
          "name": "stdout",
          "text": [
            "---Add two books---\n",
            "Pes Patron u rozminuvanni chempion\n",
            "Kit Stepan: How to become a Tik-Tok Star\n",
            "---Delete one book---\n",
            "Oops... We don't have this book\n",
            "Kit Stepan: How to become a Tik-Tok Star\n",
            "---Add one new book---\n",
            "Kit Stepan: How to become a Tik-Tok Star\n",
            "Kishka Stephania about French-Ukrainian relations\n"
          ]
        }
      ]
    },
    {
      "cell_type": "markdown",
      "source": [
        "10. (13б). Створіть клас Person з атрибутами name та age. Створіть ще один клас Employee з такими атрибутами, як department та salary. Створіть клас Manager, який успадковує обидва класи Person та Employee. Продемонструйте використання множинної спадковості, створивши обʼєкт класу Manager та отримавши mro для цього класу."
      ],
      "metadata": {
        "id": "lmV8pAwwNIqu"
      }
    },
    {
      "cell_type": "code",
      "source": [
        "class Person:\n",
        "    def __init__(self, name, age):\n",
        "        self.name = name\n",
        "        self.age = age\n",
        "\n",
        "class Employee:\n",
        "    def __init__(self, department, salary):\n",
        "        self.department = department\n",
        "        self.salary = salary\n",
        "\n",
        "class Manager(Person, Employee):\n",
        "    def __init__(self, name, age, department, salary):\n",
        "        Person.__init__(self, name, age)\n",
        "        Employee.__init__(self, department, salary)\n",
        "\n",
        "new_manager = Manager(\"Stepan\", 30, \"Finance department\", 20000)\n",
        "\n",
        "'''\n",
        "MRO -> ми отримаємо сам клас Менеджер, класи Person та Employee (від яких успадковується сам Менеджер)\n",
        "і клас Object - клас, який знаходиться на вершині ієрархії та який класи успадковують автоматично.\n",
        "f.e. class Person: -> виглядає наче клас не успадковує ніякі інші класи, але!! насправді автоматично успадковує клас Object\n",
        "'''\n",
        "print(Manager.mro())\n"
      ],
      "metadata": {
        "id": "R49grKlWNPeN",
        "colab": {
          "base_uri": "https://localhost:8080/"
        },
        "outputId": "0362cce2-12b9-4ea3-9e67-42ec93addcc8"
      },
      "execution_count": 9,
      "outputs": [
        {
          "output_type": "stream",
          "name": "stdout",
          "text": [
            "[<class '__main__.Manager'>, <class '__main__.Person'>, <class '__main__.Employee'>, <class 'object'>]\n"
          ]
        }
      ]
    },
    {
      "cell_type": "markdown",
      "source": [
        "# II. Iterator"
      ],
      "metadata": {
        "id": "dIJyUiNBFG8G"
      }
    },
    {
      "cell_type": "markdown",
      "source": [
        "11. (4б). Визначте рядок(str) з 4ма різними за значенням символами. Створіть ітератор на основі цього рядка. Викличте 5 разів функцію next на ітераторі, 4ри перших з них огорніть у ф-цію print()."
      ],
      "metadata": {
        "id": "13vsm0NyKIzL"
      }
    },
    {
      "cell_type": "code",
      "source": [
        "new_str = '5a(@'\n",
        "new_str_iter = iter(new_str)\n",
        "\n",
        "for i in range(5) :\n",
        "    next_symbol = next(new_str_iter)\n",
        "    if i < 4:\n",
        "        print(next_symbol)"
      ],
      "metadata": {
        "id": "81ntabAkKuz-",
        "colab": {
          "base_uri": "https://localhost:8080/",
          "height": 280
        },
        "outputId": "a30d7e30-c6e2-4bd7-91b6-19300b98b08b"
      },
      "execution_count": 10,
      "outputs": [
        {
          "output_type": "stream",
          "name": "stdout",
          "text": [
            "5\n",
            "a\n",
            "(\n",
            "@\n"
          ]
        },
        {
          "output_type": "error",
          "ename": "StopIteration",
          "evalue": "",
          "traceback": [
            "\u001b[0;31m---------------------------------------------------------------------------\u001b[0m",
            "\u001b[0;31mStopIteration\u001b[0m                             Traceback (most recent call last)",
            "\u001b[0;32m<ipython-input-10-f00c94131bc8>\u001b[0m in \u001b[0;36m<cell line: 4>\u001b[0;34m()\u001b[0m\n\u001b[1;32m      3\u001b[0m \u001b[0;34m\u001b[0m\u001b[0m\n\u001b[1;32m      4\u001b[0m \u001b[0;32mfor\u001b[0m \u001b[0mi\u001b[0m \u001b[0;32min\u001b[0m \u001b[0mrange\u001b[0m\u001b[0;34m(\u001b[0m\u001b[0;36m5\u001b[0m\u001b[0;34m)\u001b[0m \u001b[0;34m:\u001b[0m\u001b[0;34m\u001b[0m\u001b[0;34m\u001b[0m\u001b[0m\n\u001b[0;32m----> 5\u001b[0;31m     \u001b[0mnext_symbol\u001b[0m \u001b[0;34m=\u001b[0m \u001b[0mnext\u001b[0m\u001b[0;34m(\u001b[0m\u001b[0mnew_str_iter\u001b[0m\u001b[0;34m)\u001b[0m\u001b[0;34m\u001b[0m\u001b[0;34m\u001b[0m\u001b[0m\n\u001b[0m\u001b[1;32m      6\u001b[0m     \u001b[0;32mif\u001b[0m \u001b[0mi\u001b[0m \u001b[0;34m<\u001b[0m \u001b[0;36m4\u001b[0m\u001b[0;34m:\u001b[0m\u001b[0;34m\u001b[0m\u001b[0;34m\u001b[0m\u001b[0m\n\u001b[1;32m      7\u001b[0m         \u001b[0mprint\u001b[0m\u001b[0;34m(\u001b[0m\u001b[0mnext_symbol\u001b[0m\u001b[0;34m)\u001b[0m\u001b[0;34m\u001b[0m\u001b[0;34m\u001b[0m\u001b[0m\n",
            "\u001b[0;31mStopIteration\u001b[0m: "
          ]
        }
      ]
    },
    {
      "cell_type": "markdown",
      "source": [
        "А що якщо викликати цю ж функцію на рядку?"
      ],
      "metadata": {
        "id": "aekWHGXOLRsO"
      }
    },
    {
      "cell_type": "code",
      "source": [
        "next(new_str)"
      ],
      "metadata": {
        "id": "mxATGsErLV1i",
        "colab": {
          "base_uri": "https://localhost:8080/",
          "height": 141
        },
        "outputId": "7f4a69fa-df23-4ca5-f42c-39b31f54e3ab"
      },
      "execution_count": 11,
      "outputs": [
        {
          "output_type": "error",
          "ename": "TypeError",
          "evalue": "'str' object is not an iterator",
          "traceback": [
            "\u001b[0;31m---------------------------------------------------------------------------\u001b[0m",
            "\u001b[0;31mTypeError\u001b[0m                                 Traceback (most recent call last)",
            "\u001b[0;32m<ipython-input-11-092a7c1d2d80>\u001b[0m in \u001b[0;36m<cell line: 1>\u001b[0;34m()\u001b[0m\n\u001b[0;32m----> 1\u001b[0;31m \u001b[0mnext\u001b[0m\u001b[0;34m(\u001b[0m\u001b[0mnew_str\u001b[0m\u001b[0;34m)\u001b[0m\u001b[0;34m\u001b[0m\u001b[0;34m\u001b[0m\u001b[0m\n\u001b[0m",
            "\u001b[0;31mTypeError\u001b[0m: 'str' object is not an iterator"
          ]
        }
      ]
    },
    {
      "cell_type": "markdown",
      "source": [
        " 12. (5б). Опишіть своїми словами в одному реченні, як ви розумієте різницю між ітерабельними обʼєктами та ітераторами (можна на прикладі)."
      ],
      "metadata": {
        "id": "XwtMEopwJ4pH"
      }
    },
    {
      "cell_type": "markdown",
      "source": [
        "Ітерабельний об'єкт - це об'єкт, елементи якого можна перебирати, такі як список, словник і подібне. Тоді як ітератор - це наче об'єкт, який виконує перебір елементів, тобто він знає на якому об'єкті зупинився(можна сказати, що запам'ятовує поточний стан) і може визначити наступний.\n",
        "\n",
        "Як приклад, зробимо список:\n",
        "\n",
        "\n",
        "```\n",
        "list_pets = list('Stepan', 'Kiki', 'Patron')\n",
        "```\n",
        "Сам список ітерабельний об'єкт, проте !! ми не можемо на ньому використати функцію next(), видасть помилку (як у попередньому завданні). У такому виді ми можемо перебирати елементи тільки через loops.\n",
        "У той час, як\n",
        "\n",
        "\n",
        "```\n",
        "list_pets_iter = iter(list_pets) # створили ІТЕРАТОР і тепер можемо \"ходити\" по списку через next()\n",
        "next(list_pets_iter) # виведе 'Stepan'\n",
        "```\n",
        "наш ітератор знає поточний об'єкт ('Stepan'), може перейти на наступний ('Kiki'). Але важливо, що ітератор не може почати спочатку, треба створювати новий об'єкт.\n",
        "\n",
        "По-суті, перебір елементів ітерабельного об'єкту через loop має схожий механізм до ітератору\n",
        "\n",
        "\n",
        "```\n",
        "for i in list_pets: => iter(list_pets) + i=next()(тобто і набуває наступного значення)\n",
        "```\n",
        "\n",
        "\n",
        "\n"
      ],
      "metadata": {
        "id": "-sHrODc3KFn8"
      }
    },
    {
      "cell_type": "markdown",
      "source": [
        "13. (11б). Створіть клас, що має визначений Iterator Protocol та при кожному виклику next повертає літери англійської абетки, поки вони не вичерпаються."
      ],
      "metadata": {
        "id": "E9qJWmNbK8Gl"
      }
    },
    {
      "cell_type": "code",
      "source": [
        "class Alphabet:\n",
        "    def __init__(self):\n",
        "        self.letter = 'a'\n",
        "\n",
        "    def __iter__(self):\n",
        "        return self\n",
        "\n",
        "    def __next__(self):\n",
        "        if self.letter > 'z':\n",
        "             raise StopIteration\n",
        "        else:\n",
        "            curr_letter = self.letter\n",
        "            self.letter = chr(ord(self.letter) + 1)\n",
        "            return curr_letter\n",
        "\n",
        "\n",
        "alphabet = Alphabet()\n",
        "for i in range(26):\n",
        "    print(next(alphabet))"
      ],
      "metadata": {
        "id": "cqx-g_RsLo6I",
        "colab": {
          "base_uri": "https://localhost:8080/"
        },
        "outputId": "f18180b4-601a-4363-9551-47e2426adab4"
      },
      "execution_count": 12,
      "outputs": [
        {
          "output_type": "stream",
          "name": "stdout",
          "text": [
            "a\n",
            "b\n",
            "c\n",
            "d\n",
            "e\n",
            "f\n",
            "g\n",
            "h\n",
            "i\n",
            "j\n",
            "k\n",
            "l\n",
            "m\n",
            "n\n",
            "o\n",
            "p\n",
            "q\n",
            "r\n",
            "s\n",
            "t\n",
            "u\n",
            "v\n",
            "w\n",
            "x\n",
            "y\n",
            "z\n"
          ]
        }
      ]
    },
    {
      "cell_type": "markdown",
      "source": [
        "# Вітаю! Ви велика(ий) молодець, що впоралась(вся). Похваліть себе та побалуйте чимось приємним. Я Вами пишаюся."
      ],
      "metadata": {
        "id": "Z3E3S_s1Fv7-"
      }
    }
  ]
}