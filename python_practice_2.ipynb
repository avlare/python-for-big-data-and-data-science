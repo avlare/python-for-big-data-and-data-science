{
  "nbformat": 4,
  "nbformat_minor": 0,
  "metadata": {
    "colab": {
      "provenance": []
    },
    "kernelspec": {
      "name": "python3",
      "display_name": "Python 3"
    },
    "language_info": {
      "name": "python"
    }
  },
  "cells": [
    {
      "cell_type": "markdown",
      "source": [
        "# I. Змінні та памʼять."
      ],
      "metadata": {
        "id": "p9wwt0LZzNvn"
      }
    },
    {
      "cell_type": "markdown",
      "source": [
        "1. Створити змінні, що посилаються на два цілих числа, що однакові за значенням, де значення належить проміжку від -5 до 256. Перевірте, чи будуть ці змінні рівні тільки за значенням або ж ще будуть посилатися на один і той самий обʼєкт в памʼяті? Наведіть код та дайте текстову відповідь нижче."
      ],
      "metadata": {
        "id": "HTJrrm95xSV9"
      }
    },
    {
      "cell_type": "code",
      "execution_count": 1,
      "metadata": {
        "id": "TATni2vzayjG",
        "colab": {
          "base_uri": "https://localhost:8080/"
        },
        "outputId": "a3af4e4d-276e-4999-8a0b-4b3b108de3d2"
      },
      "outputs": [
        {
          "output_type": "stream",
          "name": "stdout",
          "text": [
            "True\n",
            "True\n"
          ]
        }
      ],
      "source": [
        "a = 123;\n",
        "b = 123;\n",
        "print(a == b)\n",
        "print(id(a)==id(b))"
      ]
    },
    {
      "cell_type": "markdown",
      "source": [
        "\n",
        "Створено два цілих числа, що дорівнюють 123. Завдяки оператору == було перевірено, що вони мають однакове значення. Наступною дією було виведено id цих двох змінних, які виявились також однаковими. Отже, змінні, що мають значення від -5 до 256, мають одну комірку в пам'яті, на яку вони одночасно посилаються.  "
      ],
      "metadata": {
        "id": "zfRG_o3WbRdg"
      }
    },
    {
      "cell_type": "markdown",
      "source": [
        "2. За допомогою якої функції можна перевірити належність змінної до вказаного типу даних (напр. чи змінна True посилається на значення булевого та цілочисленого типу)?"
      ],
      "metadata": {
        "id": "ISORzt6M3vAt"
      }
    },
    {
      "cell_type": "code",
      "source": [
        "example = True\n",
        "print(isinstance(example, bool))\n",
        "print(isinstance(example, int))"
      ],
      "metadata": {
        "id": "9vL9CFaMbfyo",
        "colab": {
          "base_uri": "https://localhost:8080/"
        },
        "outputId": "8a051096-d90d-42d8-9b75-aea2a1b07e8d"
      },
      "execution_count": null,
      "outputs": [
        {
          "output_type": "stream",
          "name": "stdout",
          "text": [
            "True\n",
            "True\n"
          ]
        }
      ]
    },
    {
      "cell_type": "markdown",
      "source": [
        "# II. Цілі числа та числа з рухомою комою"
      ],
      "metadata": {
        "id": "tRxugKAxwYLw"
      }
    },
    {
      "cell_type": "markdown",
      "source": [
        "3. Створити дві змінні, що посилаються на будь-які ціле число та число з рухомою комою та продемонструвати такі арифметичні операції: додавання, віднімання, ділення, множення, ділення без залишку, ділення по модулю, приведення до ступеню. Всі результати операцій вивести на екран."
      ],
      "metadata": {
        "id": "NLHkgd5Gybc8"
      }
    },
    {
      "cell_type": "code",
      "source": [
        "a = 10\n",
        "b = 5.6\n",
        "print(a+b)\n",
        "print(a-b)\n",
        "print(a/b)\n",
        "print(a*b)\n",
        "print(a//b)\n",
        "print(a%b)\n",
        "print(a**b)"
      ],
      "metadata": {
        "id": "nb8u_3pjb2cA",
        "colab": {
          "base_uri": "https://localhost:8080/"
        },
        "outputId": "99cdc01e-36f2-4e51-9ec7-3082a3a7b3e3"
      },
      "execution_count": null,
      "outputs": [
        {
          "output_type": "stream",
          "name": "stdout",
          "text": [
            "15.6\n",
            "4.4\n",
            "1.7857142857142858\n",
            "56.0\n",
            "1.0\n",
            "4.4\n",
            "398107.1705534969\n"
          ]
        }
      ]
    },
    {
      "cell_type": "markdown",
      "source": [
        "4. Використовуючи змінні з вправи 3, продемонструйте механізм явного перетворення типів, де числа з рухомою комою перетворюються на цілі числа. Також визначте змінну, що посилається на значення булевого типу і спробуйте явно привести її до цілого числа."
      ],
      "metadata": {
        "id": "1kBClKgPzZnC"
      }
    },
    {
      "cell_type": "code",
      "source": [
        "b = 5.6\n",
        "new_bool = False\n",
        "print(int(b))\n",
        "print(int(new_bool))"
      ],
      "metadata": {
        "id": "TbqJbkeUcKsD",
        "colab": {
          "base_uri": "https://localhost:8080/"
        },
        "outputId": "f83c99a1-7de4-49ee-c94d-7e1d9ad93049"
      },
      "execution_count": null,
      "outputs": [
        {
          "output_type": "stream",
          "name": "stdout",
          "text": [
            "5\n",
            "0\n"
          ]
        }
      ]
    },
    {
      "cell_type": "markdown",
      "source": [
        "# IІІ. Рядки (String)."
      ],
      "metadata": {
        "id": "EVJ7AflwxrZi"
      }
    },
    {
      "cell_type": "markdown",
      "source": [
        "5. Створити пустий рядок двома різними способами."
      ],
      "metadata": {
        "id": "_s5ECzz9zE61"
      }
    },
    {
      "cell_type": "code",
      "source": [
        "str1 = ''\n",
        "str2 = str()"
      ],
      "metadata": {
        "id": "fkZJHu9Scvc-"
      },
      "execution_count": null,
      "outputs": []
    },
    {
      "cell_type": "markdown",
      "source": [
        "6. Створити рядок з апострофом. Зробити його сирим. Вивести обидва рядка на екран."
      ],
      "metadata": {
        "id": "4Bdn9J3MzLf_"
      }
    },
    {
      "cell_type": "code",
      "source": [
        "str_ap = \"This is a string with an apostrophe - \\' \\n\"\n",
        "str_ap1 = r\"This is a string with an apostrophe - \\' \\n\"\n",
        "print(str_ap)\n",
        "print(str_ap1)"
      ],
      "metadata": {
        "id": "ivji_hsmc0GH",
        "colab": {
          "base_uri": "https://localhost:8080/"
        },
        "outputId": "258298ee-baa4-4cd2-c2ae-c29f5a785695"
      },
      "execution_count": 7,
      "outputs": [
        {
          "output_type": "stream",
          "name": "stdout",
          "text": [
            "This is a string with an apostrophe - ' \n",
            "\n",
            "This is a string with an apostrophe - \\' \\n\n"
          ]
        }
      ]
    },
    {
      "cell_type": "markdown",
      "source": [
        "7. Створити змінну, що буде посилатися на Ваше прізвище латинкою. Створити форматований рядок, який буде мати вигляд \"My surname is ______\", де на місці нижніх підкреслень буде Ваше прізвище зі змінної."
      ],
      "metadata": {
        "id": "bg_d8wM4z8dS"
      }
    },
    {
      "cell_type": "code",
      "source": [
        "surname = 'Rechkalova'\n",
        "full_str = f\"My surname is {surname}\"\n",
        "print(full_str)"
      ],
      "metadata": {
        "id": "kuxFgpWndACq",
        "colab": {
          "base_uri": "https://localhost:8080/"
        },
        "outputId": "b2fe399c-c321-4701-bd08-a31dbfc9632c"
      },
      "execution_count": null,
      "outputs": [
        {
          "output_type": "stream",
          "name": "stdout",
          "text": [
            "My surname is Rechkalova\n"
          ]
        }
      ]
    },
    {
      "cell_type": "markdown",
      "source": [
        "8. Маючи рядок \"My dog is crazy.\" перетворити його на список [\"my\", \"dog\", \"is\", \"crazy\"]"
      ],
      "metadata": {
        "id": "1Nc6RqvQ0hxU"
      }
    },
    {
      "cell_type": "code",
      "source": [
        "str1 = \"My dog is crazy\"\n",
        "new_list = str1.lower().split() # lower - to make \"my\" from \"My\"\n",
        "print(new_list)"
      ],
      "metadata": {
        "id": "w1Ya4RqedUhw",
        "colab": {
          "base_uri": "https://localhost:8080/"
        },
        "outputId": "b0172067-ef70-4969-b559-cab4f3165b9c"
      },
      "execution_count": null,
      "outputs": [
        {
          "output_type": "stream",
          "name": "stdout",
          "text": [
            "['my', 'dog', 'is', 'crazy']\n"
          ]
        }
      ]
    },
    {
      "cell_type": "markdown",
      "source": [
        "# IV. Робота зі списками."
      ],
      "metadata": {
        "id": "GYVqN9uP1D4n"
      }
    },
    {
      "cell_type": "markdown",
      "source": [
        "9. Створити список двома різними за синтаксисом способами. За допомогою вбудованої функції обчисліть довжину одного з них."
      ],
      "metadata": {
        "id": "7-DeDunw2sO-"
      }
    },
    {
      "cell_type": "code",
      "source": [
        "list_first = [True, 4, '98', 'Dog']\n",
        "list_second = list((True, 4, '98', 'Dog'))\n",
        "print(len(list_first))"
      ],
      "metadata": {
        "id": "zxg06Uuxdyoh",
        "colab": {
          "base_uri": "https://localhost:8080/"
        },
        "outputId": "84a09c6e-f5ab-4014-b76b-d917e9369ed6"
      },
      "execution_count": null,
      "outputs": [
        {
          "output_type": "stream",
          "name": "stdout",
          "text": [
            "4\n"
          ]
        }
      ]
    },
    {
      "cell_type": "markdown",
      "source": [
        "10. Створіть два списка та за допомогою спеціального методу додайте другий з них в якості останнього елемента першого."
      ],
      "metadata": {
        "id": "8vmGUTjL22gI"
      }
    },
    {
      "cell_type": "code",
      "source": [
        "list_first = [True, 4, '98', 'Dog']\n",
        "list_second = list((4, '98', False, 'Cucumber'))\n",
        "list_first.append(list_second)\n",
        "print(list_first)"
      ],
      "metadata": {
        "id": "uHtjWYw7d7hm",
        "colab": {
          "base_uri": "https://localhost:8080/"
        },
        "outputId": "b5868e3f-d64e-4e0f-8a9d-4bf8a34510fd"
      },
      "execution_count": null,
      "outputs": [
        {
          "output_type": "stream",
          "name": "stdout",
          "text": [
            "[True, 4, '98', 'Dog', [4, '98', False, 'Cucumber']]\n"
          ]
        }
      ]
    },
    {
      "cell_type": "markdown",
      "source": [
        "11. Створіть список, де елементами цього списку також є списки. Отримай перший елемент з останнього рядка та виведи значення на екран."
      ],
      "metadata": {
        "id": "JC3BkD-67_--"
      }
    },
    {
      "cell_type": "code",
      "source": [
        "list_first = [[True, 4, '98', 'Dog'], [4, '98', False, 'Cucumber'], [7, 9]]\n",
        "print(list_first[-1][0])"
      ],
      "metadata": {
        "id": "Kz2jZHsGeLlz",
        "colab": {
          "base_uri": "https://localhost:8080/"
        },
        "outputId": "3dbb1a1c-872b-404f-d2ec-d94ce6267851"
      },
      "execution_count": null,
      "outputs": [
        {
          "output_type": "stream",
          "name": "stdout",
          "text": [
            "7\n"
          ]
        }
      ]
    },
    {
      "cell_type": "markdown",
      "source": [
        "12. Створіть список з десяти елементів різного типу. Отримайте всі елементи, окрім двох перших та двох останніх та збережіть їх в новій змінній."
      ],
      "metadata": {
        "id": "JA47PKTv8zFK"
      }
    },
    {
      "cell_type": "code",
      "source": [
        "list_first = [True, 4, '98', 'Dog', [5, 6], (1, 5, 6), 9.2, '0', False, [4, '98', False, 'Cucumber']]\n",
        "list_second = list_first[2:-2]\n",
        "print(list_second)"
      ],
      "metadata": {
        "id": "_rHdUR-ueP4-",
        "colab": {
          "base_uri": "https://localhost:8080/"
        },
        "outputId": "d62a31a7-cdde-4093-851d-8bce29ce3413"
      },
      "execution_count": null,
      "outputs": [
        {
          "output_type": "stream",
          "name": "stdout",
          "text": [
            "['98', 'Dog', [5, 6], (1, 5, 6), 9.2, '0']\n"
          ]
        }
      ]
    },
    {
      "cell_type": "markdown",
      "source": [
        "# V. Робота з кортежами."
      ],
      "metadata": {
        "id": "pCjR1dJb1Qbi"
      }
    },
    {
      "cell_type": "markdown",
      "source": [
        "14. Створити кортеж з один елементом."
      ],
      "metadata": {
        "id": "fAZCxAX06R_k"
      }
    },
    {
      "cell_type": "code",
      "source": [
        "new_tuple = (1,)"
      ],
      "metadata": {
        "id": "H7d82WkQev3e"
      },
      "execution_count": 3,
      "outputs": []
    },
    {
      "cell_type": "markdown",
      "source": [
        "15. Порівняйте список та кортеж. Назвіть схожості та відмінності, випадки використання."
      ],
      "metadata": {
        "id": "8LCtYcmI6w1M"
      }
    },
    {
      "cell_type": "markdown",
      "source": [
        "**Відмінності:**\n",
        "1. Найголовніша відмінність list та tuple - list mutable зміна, тобто при змінні значення цього об'єкта не створюється новий, а змінюється поточний, тоді як tuple - immutable, кортежі змінювати не можна.\n",
        "2. При визначенні списку використовуються [], для кортежів - (). (звісно, для оголошення також можна використовувати list() та tuple())\n",
        "3. Кортежі зазвичай працюють швидше за списки.\n",
        "\n",
        "**Схожості:**\n",
        "1. Використовуються ці типи змінних для зберігання послідовності елементів.\n",
        "2. Можна користуватися slicing для створення нового списку/кортежу з елементів, що містилися в оригінальній послідовності. Елементи у list та tuple мають однаковий спосіб індексації (перший елемент має індекс 0).  \n",
        "\n",
        "**Схожість та відмінність в одному**\n",
        "Загалом, що у списках, що у кортежах можна зберігати елементи різних типів данних (int, bool, float...), проте рекомендується у tuple зберігати елементи з однаковим типом (f.e. всі int).\n",
        "\n",
        "**Випадки використання**\n",
        "Як було зазначено раніше, використання буде залежати від багатьох факторів: range типів елементів, що використовуються, потрібна швидкість та найголовніше: чи потрібно змінювати дану послідовність. Кортежі також часто використовуються у словниках у якості ключей. Tuples дають точну відповідь, що дані не зміняться.\n"
      ],
      "metadata": {
        "id": "fUsN1Hnue0C6"
      }
    },
    {
      "cell_type": "markdown",
      "source": [
        "16. Створіть кортеж з 11ти елементів чисел з рухомою комою та отримайте кожен парний за індексом елемент в зворотньому порядку. Наприклад, маючи (1.2, 2.3, 3.3, 4.3, 5.3, 6.3, 7.3, 8.3, 9.3, 0.3), отримати (0.3, 8.3, 6.3, 4.3, 2.3). Результат збережіть в нову змінну та виведіть на екран."
      ],
      "metadata": {
        "id": "m0xrwFijAmDD"
      }
    },
    {
      "cell_type": "code",
      "source": [
        "new_tuple = (3.4, 2.7, 1.5, 45.298, 10.6, 77.98, 1.1, 0.968574, 4.9, 458.78)\n",
        "super_new_tuple = new_tuple[0:-1:2]\n",
        "print(super_new_tuple)"
      ],
      "metadata": {
        "id": "p-5DAH6XfAGA",
        "colab": {
          "base_uri": "https://localhost:8080/"
        },
        "outputId": "38f5c9e4-ec45-431d-8630-ef5470610a3d"
      },
      "execution_count": null,
      "outputs": [
        {
          "output_type": "stream",
          "name": "stdout",
          "text": [
            "(3.4, 1.5, 10.6, 1.1, 4.9)\n"
          ]
        }
      ]
    },
    {
      "cell_type": "markdown",
      "source": [
        "# VI. Множини (Set)."
      ],
      "metadata": {
        "id": "rW_I9dt3x6cW"
      }
    },
    {
      "cell_type": "markdown",
      "source": [
        "17. Створити множину без елементів. Після цого за допомогою методу додайте кілька різних елементів до множини. Чи множини є змінним типом даних?"
      ],
      "metadata": {
        "id": "zNjRLHLw1Bgg"
      }
    },
    {
      "cell_type": "code",
      "source": [
        "new_set = set()\n",
        "print(id(new_set))\n",
        "new_set.add('hello')\n",
        "new_set.add(23)\n",
        "new_set.add(True)\n",
        "print(id(new_set))"
      ],
      "metadata": {
        "id": "KOv7zc2Kfo4N",
        "colab": {
          "base_uri": "https://localhost:8080/"
        },
        "outputId": "5a9fcefc-35ae-4605-e606-90a61db9b985"
      },
      "execution_count": null,
      "outputs": [
        {
          "output_type": "stream",
          "name": "stdout",
          "text": [
            "138432042243168\n",
            "138432042243168\n"
          ]
        }
      ]
    },
    {
      "cell_type": "markdown",
      "source": [
        "При створенні множини та зміні її (додаванні нових елементів у неї) id елементу залишився однаковим - це наочно показує, що set mutable (змінний) тип даних."
      ],
      "metadata": {
        "id": "vxS6dVYiftZQ"
      }
    },
    {
      "cell_type": "markdown",
      "source": [
        "18. Створити множину, маючи список my_list = [1, 1, 2, 67, 67, 8, 9]. Пояснити, чому \"зникли\" деякі елементи."
      ],
      "metadata": {
        "id": "gHpT0Zw_1HEF"
      }
    },
    {
      "cell_type": "code",
      "source": [
        "my_list = set((1, 1, 2, 67, 67, 8, 9))\n",
        "print(my_list)"
      ],
      "metadata": {
        "id": "qCN4uvJ_fxmu",
        "colab": {
          "base_uri": "https://localhost:8080/"
        },
        "outputId": "2652af18-33a1-4c95-de42-ffb709276e2d"
      },
      "execution_count": null,
      "outputs": [
        {
          "output_type": "stream",
          "name": "stdout",
          "text": [
            "{1, 2, 67, 8, 9}\n"
          ]
        }
      ]
    },
    {
      "cell_type": "markdown",
      "source": [
        "Set - множина, тому елементи не дублюються. Цим можна пояснити \"зникнення\" 1 та 67 з нашої змінної my_list."
      ],
      "metadata": {
        "id": "tFNc1e20fyny"
      }
    },
    {
      "cell_type": "markdown",
      "source": [
        "19. Створіть дві множини. Продемонстуйте над ними операції: обʼєднання, різниці, пересічі та симетричної різниці. Використовуйте методи, що не змінюють множини, а створюють нові."
      ],
      "metadata": {
        "id": "SRMkGizS1UwY"
      }
    },
    {
      "cell_type": "code",
      "source": [
        "set_a = {'cat', 'Patron', 'panda', 'fox'}\n",
        "set_b = {'Patron', 'cat', 'fox', 'Stepan', \"zmiya\"}\n",
        "set_union = set_a.union(set_b)\n",
        "set_difference_for_a = set_a.difference(set_b)\n",
        "set_difference_for_b = set_b.difference(set_a)\n",
        "set_intersection = set_a.intersection(set_b)\n",
        "set_symmetric_diff = set_a.symmetric_difference(set_b)\n",
        "print(set_union)\n",
        "print(set_difference_for_a)\n",
        "print(set_difference_for_b)\n",
        "print(set_intersection)\n",
        "print(set_symmetric_diff)"
      ],
      "metadata": {
        "id": "h0T-VuDnf3Ri",
        "colab": {
          "base_uri": "https://localhost:8080/"
        },
        "outputId": "11ffad1f-cfcc-4a32-982d-160a5b4ce5fa"
      },
      "execution_count": 8,
      "outputs": [
        {
          "output_type": "stream",
          "name": "stdout",
          "text": [
            "{'zmiya', 'cat', 'Stepan', 'panda', 'fox', 'Patron'}\n",
            "{'panda'}\n",
            "{'zmiya', 'Stepan'}\n",
            "{'fox', 'cat', 'Patron'}\n",
            "{'zmiya', 'panda', 'Stepan'}\n"
          ]
        }
      ]
    },
    {
      "cell_type": "markdown",
      "source": [
        "# VII. Словники (Dictionary)."
      ],
      "metadata": {
        "id": "kWc8gkzTx7Ea"
      }
    },
    {
      "cell_type": "markdown",
      "source": [
        "20. Створіть пустий словник. До нього додайте чотири пари елементів такі, щоб їхні ключі були різних типів. Чи може список бути ключем? Чому?"
      ],
      "metadata": {
        "id": "i5FLwj-B2ybQ"
      }
    },
    {
      "cell_type": "code",
      "source": [
        "new_dictionary = dict()\n",
        "new_dictionary[23] = 23\n",
        "new_dictionary[True] = 'False'\n",
        "new_dictionary[2.3] = 454545.3\n",
        "new_dictionary[(5, 6, 7)] = \"sdasdas\"\n",
        "print(new_dictionary)"
      ],
      "metadata": {
        "id": "hxgv3BzrgLAV",
        "colab": {
          "base_uri": "https://localhost:8080/"
        },
        "outputId": "fc593d71-ab59-4036-884a-14bed20640f9"
      },
      "execution_count": 9,
      "outputs": [
        {
          "output_type": "stream",
          "name": "stdout",
          "text": [
            "{23: 23, True: 'False', 2.3: 454545.3, (5, 6, 7): 'sdasdas'}\n"
          ]
        }
      ]
    },
    {
      "cell_type": "markdown",
      "source": [
        "Список не може бути ключем через те, що він mutable тип. У теорії, його можна використовувати, проте можуть виникнути помилки."
      ],
      "metadata": {
        "id": "zwa7UVN-gR3m"
      }
    },
    {
      "cell_type": "markdown",
      "source": [
        "21. Створіть словник, де значенням в одній з пар теж буде словник, який теж має вкладений словник. Виведіть на екран значення, що міститься в словнику, що знаходиться на найнижчому рівні ієрархії вкладеності (найбільш внутрішній)."
      ],
      "metadata": {
        "id": "WM_pMlJsgoNf"
      }
    },
    {
      "cell_type": "code",
      "source": [
        "new_dictionary_level_one = {'Dog':'Patron', 'Cat':'Stepan', 'Monkey':'Maksym'}\n",
        "new_dictionary_level_two = {'Pink':True, 'Red':False, 'Dictionary':new_dictionary_level_one}\n",
        "new_dictionary_level_three = {'Anya':19, 'Roma':8, 'Lucas':4, 'Dictionary':new_dictionary_level_two}\n",
        "print(new_dictionary_level_three['Dictionary']['Dictionary']['Cat'])"
      ],
      "metadata": {
        "id": "60dlP7IHhAy4",
        "colab": {
          "base_uri": "https://localhost:8080/"
        },
        "outputId": "c88f6c67-229e-4273-c0d2-0e1601f816e3"
      },
      "execution_count": 10,
      "outputs": [
        {
          "output_type": "stream",
          "name": "stdout",
          "text": [
            "Stepan\n"
          ]
        }
      ]
    },
    {
      "cell_type": "markdown",
      "source": [
        "# Вітаю! Ви велика(ий) молодець, що впоралась(вся). Похваліть себе та побалуйте чимось приємним. Я Вами пишаюся."
      ],
      "metadata": {
        "id": "xOZP0hkx6cCr"
      }
    }
  ]
}